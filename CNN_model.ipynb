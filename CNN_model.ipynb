{
 "cells": [
  {
   "cell_type": "markdown",
   "id": "1977225e-0349-4d97-9073-81ed56626c55",
   "metadata": {},
   "source": [
    "# Import Libraries"
   ]
  },
  {
   "cell_type": "code",
   "execution_count": 1,
   "id": "e3d782a5-4ff0-4119-b487-786e0d1e00c2",
   "metadata": {},
   "outputs": [],
   "source": [
    "import numpy as np\n",
    "import tensorflow as tf\n",
    "from tensorflow.keras import layers, models\n",
    "from tensorflow.keras.datasets import mnist\n",
    "from tensorflow.keras.utils import to_categorical\n",
    "import matplotlib.pyplot as plt\n",
    "from sklearn.metrics import confusion_matrix, ConfusionMatrixDisplay\n"
   ]
  },
  {
   "cell_type": "markdown",
   "id": "5ca724e4-7e49-4da3-8c32-49f32dcc9207",
   "metadata": {},
   "source": [
    "# Load and preprocess data"
   ]
  },
  {
   "cell_type": "code",
   "execution_count": 2,
   "id": "e51cdd2b-4727-4248-85bf-968972c3e79f",
   "metadata": {},
   "outputs": [],
   "source": [
    "(X_train, y_train), (X_test, y_test) = mnist.load_data()\n",
    "\n",
    "X_train = X_train.reshape(X_train.shape[0], 28, 28, 1).astype('float32') / 255\n",
    "X_test = X_test.reshape(X_test.shape[0], 28, 28, 1).astype('float32') / 255\n",
    "Y_train = to_categorical(y_train, num_classes=10)\n",
    "Y_test = to_categorical(y_test, num_classes=10)\n"
   ]
  },
  {
   "cell_type": "markdown",
   "id": "c985db2f-08b6-4c6a-9193-6d5a1e4285ab",
   "metadata": {},
   "source": [
    "# CNN model & Layers"
   ]
  },
  {
   "cell_type": "code",
   "execution_count": null,
   "id": "e52d42af-7e32-41ad-93b1-be934c29faf3",
   "metadata": {},
   "outputs": [
    {
     "name": "stderr",
     "output_type": "stream",
     "text": [
      "C:\\Python312\\Lib\\site-packages\\keras\\src\\layers\\convolutional\\base_conv.py:107: UserWarning: Do not pass an `input_shape`/`input_dim` argument to a layer. When using Sequential models, prefer using an `Input(shape)` object as the first layer in the model instead.\n",
      "  super().__init__(activity_regularizer=activity_regularizer, **kwargs)\n"
     ]
    },
    {
     "name": "stdout",
     "output_type": "stream",
     "text": [
      "Epoch 1/15\n",
      "\u001b[1m469/469\u001b[0m \u001b[32m━━━━━━━━━━━━━━━━━━━━\u001b[0m\u001b[37m\u001b[0m \u001b[1m30s\u001b[0m 57ms/step - accuracy: 0.8328 - loss: 0.5455 - val_accuracy: 0.9680 - val_loss: 0.1075\n",
      "Epoch 2/15\n",
      "\u001b[1m469/469\u001b[0m \u001b[32m━━━━━━━━━━━━━━━━━━━━\u001b[0m\u001b[37m\u001b[0m \u001b[1m27s\u001b[0m 56ms/step - accuracy: 0.9550 - loss: 0.1500 - val_accuracy: 0.9785 - val_loss: 0.0708\n",
      "Epoch 3/15\n",
      "\u001b[1m469/469\u001b[0m \u001b[32m━━━━━━━━━━━━━━━━━━━━\u001b[0m\u001b[37m\u001b[0m \u001b[1m26s\u001b[0m 55ms/step - accuracy: 0.9690 - loss: 0.1021 - val_accuracy: 0.9808 - val_loss: 0.0589\n",
      "Epoch 4/15\n",
      "\u001b[1m469/469\u001b[0m \u001b[32m━━━━━━━━━━━━━━━━━━━━\u001b[0m\u001b[37m\u001b[0m \u001b[1m27s\u001b[0m 58ms/step - accuracy: 0.9760 - loss: 0.0780 - val_accuracy: 0.9826 - val_loss: 0.0526\n",
      "Epoch 5/15\n",
      "\u001b[1m469/469\u001b[0m \u001b[32m━━━━━━━━━━━━━━━━━━━━\u001b[0m\u001b[37m\u001b[0m \u001b[1m27s\u001b[0m 58ms/step - accuracy: 0.9796 - loss: 0.0657 - val_accuracy: 0.9833 - val_loss: 0.0527\n",
      "Epoch 6/15\n",
      "\u001b[1m469/469\u001b[0m \u001b[32m━━━━━━━━━━━━━━━━━━━━\u001b[0m\u001b[37m\u001b[0m \u001b[1m27s\u001b[0m 58ms/step - accuracy: 0.9827 - loss: 0.0550 - val_accuracy: 0.9852 - val_loss: 0.0452\n",
      "Epoch 7/15\n",
      "\u001b[1m469/469\u001b[0m \u001b[32m━━━━━━━━━━━━━━━━━━━━\u001b[0m\u001b[37m\u001b[0m \u001b[1m27s\u001b[0m 58ms/step - accuracy: 0.9847 - loss: 0.0479 - val_accuracy: 0.9839 - val_loss: 0.0477\n",
      "Epoch 8/15\n",
      "\u001b[1m469/469\u001b[0m \u001b[32m━━━━━━━━━━━━━━━━━━━━\u001b[0m\u001b[37m\u001b[0m \u001b[1m27s\u001b[0m 58ms/step - accuracy: 0.9873 - loss: 0.0392 - val_accuracy: 0.9846 - val_loss: 0.0463\n",
      "Epoch 9/15\n",
      "\u001b[1m469/469\u001b[0m \u001b[32m━━━━━━━━━━━━━━━━━━━━\u001b[0m\u001b[37m\u001b[0m \u001b[1m27s\u001b[0m 57ms/step - accuracy: 0.9889 - loss: 0.0347 - val_accuracy: 0.9859 - val_loss: 0.0473\n",
      "Epoch 10/15\n",
      "\u001b[1m469/469\u001b[0m \u001b[32m━━━━━━━━━━━━━━━━━━━━\u001b[0m\u001b[37m\u001b[0m \u001b[1m28s\u001b[0m 59ms/step - accuracy: 0.9891 - loss: 0.0306 - val_accuracy: 0.9856 - val_loss: 0.0480\n",
      "Epoch 11/15\n",
      "\u001b[1m382/469\u001b[0m \u001b[32m━━━━━━━━━━━━━━━━\u001b[0m\u001b[37m━━━━\u001b[0m \u001b[1m4s\u001b[0m 56ms/step - accuracy: 0.9893 - loss: 0.0298"
     ]
    }
   ],
   "source": [
    "model = models.Sequential([\n",
    "    layers.Conv2D(16, (3, 3), activation='relu', input_shape=(28, 28, 1)),\n",
    "    layers.MaxPooling2D((1, 1)),\n",
    "    layers.Flatten(),\n",
    "    layers.Dense(128, activation='relu'),\n",
    "    layers.Dropout(0.5),\n",
    "    layers.Dense(10, activation='softmax')\n",
    "])\n",
    "\n",
    "model.compile(optimizer='adam',\n",
    "              loss='categorical_crossentropy',\n",
    "              metrics=['accuracy'])\n",
    "\n",
    "# Train the model\n",
    "history = model.fit(X_train, Y_train, batch_size=128, epochs=15, validation_data=(X_test, Y_test))\n"
   ]
  },
  {
   "cell_type": "markdown",
   "id": "818c2824-1b84-4f74-a58f-73a15e89b425",
   "metadata": {},
   "source": [
    "# Evaluate the model & Predict"
   ]
  },
  {
   "cell_type": "code",
   "execution_count": null,
   "id": "226737e5-1c72-4bc8-a6fb-32909b47c022",
   "metadata": {},
   "outputs": [],
   "source": [
    "test_scores = model.evaluate(X_test, Y_test, verbose=2)\n",
    "print(f\"Test Loss: {test_scores[0]:.4f}\")\n",
    "print(f\"Test Accuracy: {test_scores[1] * 100:.2f}%\")\n",
    "\n",
    "def predict_with_confidence(model, images):\n",
    "    predictions = model.predict(images)\n",
    "    predicted_classes = np.argmax(predictions, axis=1)\n",
    "    confidence_levels = np.max(predictions, axis=1)\n",
    "    return predicted_classes, confidence_levels\n",
    "\n",
    "sample_images = X_test[:10]\n",
    "true_labels = y_test[:10]\n",
    "predicted_classes, confidence_levels = predict_with_confidence(model, sample_images)\n",
    "\n",
    "for i, (true_label, predicted_class, confidence) in enumerate(zip(true_labels, predicted_classes, confidence_levels)):\n",
    "    print(f\"Image {i + 1}: True Label = {true_label}, Predicted = {predicted_class}, Confidence = {confidence:.2f}\")\n"
   ]
  },
  {
   "cell_type": "markdown",
   "id": "42a9554b-2964-4faa-8218-f1309929b9e2",
   "metadata": {},
   "source": [
    "# Confusion Matrix"
   ]
  },
  {
   "cell_type": "code",
   "execution_count": null,
   "id": "589e9281-5a7a-4743-9262-ac1a6092cfdd",
   "metadata": {},
   "outputs": [],
   "source": [
    "y_pred = np.argmax(model.predict(X_test), axis=1)\n",
    "cm = confusion_matrix(y_test, y_pred)\n",
    "disp = ConfusionMatrixDisplay(confusion_matrix=cm, display_labels=range(10))\n",
    "disp.plot(cmap=plt.cm.Blues)\n",
    "plt.title(\"Confusion Matrix\")\n",
    "plt.show()\n"
   ]
  },
  {
   "cell_type": "markdown",
   "id": "f403c647-fd96-4c8f-b4e8-8d03f3c24fdc",
   "metadata": {},
   "source": [
    "# Training and Validation Accuracy Graphs"
   ]
  },
  {
   "cell_type": "code",
   "execution_count": null,
   "id": "84151dff-5d36-49fa-bffc-bb205c862d7f",
   "metadata": {},
   "outputs": [],
   "source": [
    "plt.figure(figsize=(10, 5))\n",
    "plt.plot(history.history['accuracy'], label='Training Accuracy')\n",
    "plt.plot(history.history['val_accuracy'], label='Validation Accuracy')\n",
    "plt.title('Training and Validation Accuracy')\n",
    "plt.xlabel('Epochs')\n",
    "plt.ylabel('Accuracy')\n",
    "plt.legend()\n",
    "plt.show()\n"
   ]
  },
  {
   "cell_type": "markdown",
   "id": "a3c9c9d5-3d8d-43fd-b7ef-8daa55476773",
   "metadata": {},
   "source": [
    "# Training and Validation Loss Graphs"
   ]
  },
  {
   "cell_type": "code",
   "execution_count": null,
   "id": "23880a4f-b150-47a5-a5ec-071b5673a7f2",
   "metadata": {},
   "outputs": [],
   "source": [
    "\n",
    "plt.figure(figsize=(10, 5))\n",
    "plt.plot(history.history['loss'], label='Training Loss')\n",
    "plt.plot(history.history['val_loss'], label='Validation Loss')\n",
    "plt.title('Training and Validation Loss')\n",
    "plt.xlabel('Epochs')\n",
    "plt.ylabel('Loss')\n",
    "plt.legend()\n",
    "plt.show()\n"
   ]
  },
  {
   "cell_type": "markdown",
   "id": "4f5e45af-97bc-4e14-ab9e-daa9f0b84b40",
   "metadata": {},
   "source": [
    "# Saving Model"
   ]
  },
  {
   "cell_type": "code",
   "execution_count": null,
   "id": "ec38ef20-b53c-4fd9-963e-fa50929154d5",
   "metadata": {},
   "outputs": [],
   "source": [
    "model.save('mnist_cnn_model.h5')"
   ]
  },
  {
   "cell_type": "code",
   "execution_count": null,
   "id": "2888df2a-56f1-4a6b-8c75-c1b32dc5be61",
   "metadata": {},
   "outputs": [],
   "source": []
  }
 ],
 "metadata": {
  "kernelspec": {
   "display_name": "Python 3 (ipykernel)",
   "language": "python",
   "name": "python3"
  },
  "language_info": {
   "codemirror_mode": {
    "name": "ipython",
    "version": 3
   },
   "file_extension": ".py",
   "mimetype": "text/x-python",
   "name": "python",
   "nbconvert_exporter": "python",
   "pygments_lexer": "ipython3",
   "version": "3.12.3"
  }
 },
 "nbformat": 4,
 "nbformat_minor": 5
}
